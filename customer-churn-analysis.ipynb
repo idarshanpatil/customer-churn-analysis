{
 "cells": [
  {
   "cell_type": "markdown",
   "id": "02cb3b26-c37b-4c88-84bd-9dfddad0ebf5",
   "metadata": {},
   "source": [
    "# Business Problem\n",
    "## Customer Churn Analysis 📊\n",
    "#### In this project, I explored a **Bank Churn Modelling** dataset to understand why customers leave Bank.\n",
    "#### The dataset contains **10,000 customer records** with demographic, account, and service usage details.\n",
    "\n",
    "#### The goal: Identify key factors contributing to **customer churn** so banks can take proactive measures."
   ]
  },
  {
   "cell_type": "markdown",
   "id": "ea194f4b-cecf-4ae3-a565-98f31d66ba70",
   "metadata": {},
   "source": [
    "# Project Requirements:\n",
    "##### Dataset\n",
    "##### Importing Libraries, Python, Numpy, Panda, Seaborn, Matplotlib, Statistics"
   ]
  },
  {
   "cell_type": "code",
   "execution_count": 1,
   "id": "1236d853-4357-4e5c-bb40-cdca6293936d",
   "metadata": {},
   "outputs": [],
   "source": [
    "import numpy as np\n",
    "import pandas as pd\n",
    "import seaborn as sns\n",
    "import matplotlib.pyplot as plt\n",
    "sns.set_theme(style='whitegrid')"
   ]
  },
  {
   "cell_type": "markdown",
   "id": "67534ca3-4c18-46b3-b5bd-b06725b8e6c6",
   "metadata": {},
   "source": [
    "#### Dataset"
   ]
  },
  {
   "cell_type": "code",
   "execution_count": 2,
   "id": "638fc52a-3093-4991-9d15-b9929ab2a74c",
   "metadata": {},
   "outputs": [
    {
     "data": {
      "text/html": [
       "<div>\n",
       "<style scoped>\n",
       "    .dataframe tbody tr th:only-of-type {\n",
       "        vertical-align: middle;\n",
       "    }\n",
       "\n",
       "    .dataframe tbody tr th {\n",
       "        vertical-align: top;\n",
       "    }\n",
       "\n",
       "    .dataframe thead th {\n",
       "        text-align: right;\n",
       "    }\n",
       "</style>\n",
       "<table border=\"1\" class=\"dataframe\">\n",
       "  <thead>\n",
       "    <tr style=\"text-align: right;\">\n",
       "      <th></th>\n",
       "      <th>RowNumber</th>\n",
       "      <th>CustomerId</th>\n",
       "      <th>Surname</th>\n",
       "      <th>CreditScore</th>\n",
       "      <th>Geography</th>\n",
       "      <th>Gender</th>\n",
       "      <th>Age</th>\n",
       "      <th>Tenure</th>\n",
       "      <th>Balance</th>\n",
       "      <th>NumOfProducts</th>\n",
       "      <th>HasCrCard</th>\n",
       "      <th>IsActiveMember</th>\n",
       "      <th>EstimatedSalary</th>\n",
       "      <th>Exited</th>\n",
       "    </tr>\n",
       "  </thead>\n",
       "  <tbody>\n",
       "    <tr>\n",
       "      <th>0</th>\n",
       "      <td>1</td>\n",
       "      <td>15634602</td>\n",
       "      <td>Hargrave</td>\n",
       "      <td>619</td>\n",
       "      <td>France</td>\n",
       "      <td>Female</td>\n",
       "      <td>42</td>\n",
       "      <td>2</td>\n",
       "      <td>0.00</td>\n",
       "      <td>1</td>\n",
       "      <td>1</td>\n",
       "      <td>1</td>\n",
       "      <td>101348.88</td>\n",
       "      <td>1</td>\n",
       "    </tr>\n",
       "    <tr>\n",
       "      <th>1</th>\n",
       "      <td>2</td>\n",
       "      <td>15647311</td>\n",
       "      <td>Hill</td>\n",
       "      <td>608</td>\n",
       "      <td>Spain</td>\n",
       "      <td>Female</td>\n",
       "      <td>41</td>\n",
       "      <td>1</td>\n",
       "      <td>83807.86</td>\n",
       "      <td>1</td>\n",
       "      <td>0</td>\n",
       "      <td>1</td>\n",
       "      <td>112542.58</td>\n",
       "      <td>0</td>\n",
       "    </tr>\n",
       "    <tr>\n",
       "      <th>2</th>\n",
       "      <td>3</td>\n",
       "      <td>15619304</td>\n",
       "      <td>Onio</td>\n",
       "      <td>502</td>\n",
       "      <td>France</td>\n",
       "      <td>Female</td>\n",
       "      <td>42</td>\n",
       "      <td>8</td>\n",
       "      <td>159660.80</td>\n",
       "      <td>3</td>\n",
       "      <td>1</td>\n",
       "      <td>0</td>\n",
       "      <td>113931.57</td>\n",
       "      <td>1</td>\n",
       "    </tr>\n",
       "    <tr>\n",
       "      <th>3</th>\n",
       "      <td>4</td>\n",
       "      <td>15701354</td>\n",
       "      <td>Boni</td>\n",
       "      <td>699</td>\n",
       "      <td>France</td>\n",
       "      <td>Female</td>\n",
       "      <td>39</td>\n",
       "      <td>1</td>\n",
       "      <td>0.00</td>\n",
       "      <td>2</td>\n",
       "      <td>0</td>\n",
       "      <td>0</td>\n",
       "      <td>93826.63</td>\n",
       "      <td>0</td>\n",
       "    </tr>\n",
       "    <tr>\n",
       "      <th>4</th>\n",
       "      <td>5</td>\n",
       "      <td>15737888</td>\n",
       "      <td>Mitchell</td>\n",
       "      <td>850</td>\n",
       "      <td>Spain</td>\n",
       "      <td>Female</td>\n",
       "      <td>43</td>\n",
       "      <td>2</td>\n",
       "      <td>125510.82</td>\n",
       "      <td>1</td>\n",
       "      <td>1</td>\n",
       "      <td>1</td>\n",
       "      <td>79084.1</td>\n",
       "      <td>0</td>\n",
       "    </tr>\n",
       "    <tr>\n",
       "      <th>...</th>\n",
       "      <td>...</td>\n",
       "      <td>...</td>\n",
       "      <td>...</td>\n",
       "      <td>...</td>\n",
       "      <td>...</td>\n",
       "      <td>...</td>\n",
       "      <td>...</td>\n",
       "      <td>...</td>\n",
       "      <td>...</td>\n",
       "      <td>...</td>\n",
       "      <td>...</td>\n",
       "      <td>...</td>\n",
       "      <td>...</td>\n",
       "      <td>...</td>\n",
       "    </tr>\n",
       "    <tr>\n",
       "      <th>9995</th>\n",
       "      <td>9996</td>\n",
       "      <td>15606229</td>\n",
       "      <td>Obijiaku</td>\n",
       "      <td>771</td>\n",
       "      <td>France</td>\n",
       "      <td>Male</td>\n",
       "      <td>39</td>\n",
       "      <td>5</td>\n",
       "      <td>0.00</td>\n",
       "      <td>2</td>\n",
       "      <td>1</td>\n",
       "      <td>0</td>\n",
       "      <td>96270.64</td>\n",
       "      <td>0</td>\n",
       "    </tr>\n",
       "    <tr>\n",
       "      <th>9996</th>\n",
       "      <td>9997</td>\n",
       "      <td>15569892</td>\n",
       "      <td>Johnstone</td>\n",
       "      <td>516</td>\n",
       "      <td>France</td>\n",
       "      <td>Male</td>\n",
       "      <td>35</td>\n",
       "      <td>10</td>\n",
       "      <td>57369.61</td>\n",
       "      <td>1</td>\n",
       "      <td>1</td>\n",
       "      <td>1</td>\n",
       "      <td>101699.77</td>\n",
       "      <td>0</td>\n",
       "    </tr>\n",
       "    <tr>\n",
       "      <th>9997</th>\n",
       "      <td>9998</td>\n",
       "      <td>15584532</td>\n",
       "      <td>Liu</td>\n",
       "      <td>709</td>\n",
       "      <td>France</td>\n",
       "      <td>Female</td>\n",
       "      <td>36</td>\n",
       "      <td>7</td>\n",
       "      <td>0.00</td>\n",
       "      <td>1</td>\n",
       "      <td>0</td>\n",
       "      <td>1</td>\n",
       "      <td>42085.58</td>\n",
       "      <td>1</td>\n",
       "    </tr>\n",
       "    <tr>\n",
       "      <th>9998</th>\n",
       "      <td>9999</td>\n",
       "      <td>15682355</td>\n",
       "      <td>Sabbatini</td>\n",
       "      <td>772</td>\n",
       "      <td>Germany</td>\n",
       "      <td>Male</td>\n",
       "      <td>42</td>\n",
       "      <td>3</td>\n",
       "      <td>75075.31</td>\n",
       "      <td>2</td>\n",
       "      <td>1</td>\n",
       "      <td>0</td>\n",
       "      <td>92888.52</td>\n",
       "      <td>1</td>\n",
       "    </tr>\n",
       "    <tr>\n",
       "      <th>9999</th>\n",
       "      <td>10000</td>\n",
       "      <td>15628319</td>\n",
       "      <td>Walker</td>\n",
       "      <td>792</td>\n",
       "      <td>France</td>\n",
       "      <td>Female</td>\n",
       "      <td>28</td>\n",
       "      <td>4</td>\n",
       "      <td>130142.79</td>\n",
       "      <td>1</td>\n",
       "      <td>1</td>\n",
       "      <td>0</td>\n",
       "      <td>38190.78</td>\n",
       "      <td>0</td>\n",
       "    </tr>\n",
       "  </tbody>\n",
       "</table>\n",
       "<p>10000 rows × 14 columns</p>\n",
       "</div>"
      ],
      "text/plain": [
       "      RowNumber  CustomerId    Surname  CreditScore Geography  Gender  Age  \\\n",
       "0             1    15634602   Hargrave          619    France  Female   42   \n",
       "1             2    15647311       Hill          608     Spain  Female   41   \n",
       "2             3    15619304       Onio          502    France  Female   42   \n",
       "3             4    15701354       Boni          699    France  Female   39   \n",
       "4             5    15737888   Mitchell          850     Spain  Female   43   \n",
       "...         ...         ...        ...          ...       ...     ...  ...   \n",
       "9995       9996    15606229   Obijiaku          771    France    Male   39   \n",
       "9996       9997    15569892  Johnstone          516    France    Male   35   \n",
       "9997       9998    15584532        Liu          709    France  Female   36   \n",
       "9998       9999    15682355  Sabbatini          772   Germany    Male   42   \n",
       "9999      10000    15628319     Walker          792    France  Female   28   \n",
       "\n",
       "      Tenure    Balance  NumOfProducts  HasCrCard  IsActiveMember  \\\n",
       "0          2       0.00              1          1               1   \n",
       "1          1   83807.86              1          0               1   \n",
       "2          8  159660.80              3          1               0   \n",
       "3          1       0.00              2          0               0   \n",
       "4          2  125510.82              1          1               1   \n",
       "...      ...        ...            ...        ...             ...   \n",
       "9995       5       0.00              2          1               0   \n",
       "9996      10   57369.61              1          1               1   \n",
       "9997       7       0.00              1          0               1   \n",
       "9998       3   75075.31              2          1               0   \n",
       "9999       4  130142.79              1          1               0   \n",
       "\n",
       "     EstimatedSalary  Exited  \n",
       "0          101348.88       1  \n",
       "1          112542.58       0  \n",
       "2          113931.57       1  \n",
       "3           93826.63       0  \n",
       "4            79084.1       0  \n",
       "...              ...     ...  \n",
       "9995        96270.64       0  \n",
       "9996       101699.77       0  \n",
       "9997        42085.58       1  \n",
       "9998        92888.52       1  \n",
       "9999        38190.78       0  \n",
       "\n",
       "[10000 rows x 14 columns]"
      ]
     },
     "execution_count": 2,
     "metadata": {},
     "output_type": "execute_result"
    }
   ],
   "source": [
    "# Load dataset\n",
    "#df = pd.read_csv('Churn_Modelling.csv')\n",
    "df = pd.read_csv('Churn_Modelling_dataset1.txt')\n",
    "df"
   ]
  },
  {
   "cell_type": "markdown",
   "id": "9c379a76-6227-43f8-87bf-9104d3fadca3",
   "metadata": {},
   "source": [
    "### Data Undrestand and Load"
   ]
  },
  {
   "cell_type": "code",
   "execution_count": 3,
   "id": "23480a2e-9163-4875-a7bd-743dbbf16ae6",
   "metadata": {},
   "outputs": [
    {
     "data": {
      "text/html": [
       "<div>\n",
       "<style scoped>\n",
       "    .dataframe tbody tr th:only-of-type {\n",
       "        vertical-align: middle;\n",
       "    }\n",
       "\n",
       "    .dataframe tbody tr th {\n",
       "        vertical-align: top;\n",
       "    }\n",
       "\n",
       "    .dataframe thead th {\n",
       "        text-align: right;\n",
       "    }\n",
       "</style>\n",
       "<table border=\"1\" class=\"dataframe\">\n",
       "  <thead>\n",
       "    <tr style=\"text-align: right;\">\n",
       "      <th></th>\n",
       "      <th>RowNumber</th>\n",
       "      <th>CustomerId</th>\n",
       "      <th>Surname</th>\n",
       "      <th>CreditScore</th>\n",
       "      <th>Geography</th>\n",
       "      <th>Gender</th>\n",
       "      <th>Age</th>\n",
       "      <th>Tenure</th>\n",
       "      <th>Balance</th>\n",
       "      <th>NumOfProducts</th>\n",
       "      <th>HasCrCard</th>\n",
       "      <th>IsActiveMember</th>\n",
       "      <th>EstimatedSalary</th>\n",
       "      <th>Exited</th>\n",
       "    </tr>\n",
       "  </thead>\n",
       "  <tbody>\n",
       "    <tr>\n",
       "      <th>0</th>\n",
       "      <td>1</td>\n",
       "      <td>15634602</td>\n",
       "      <td>Hargrave</td>\n",
       "      <td>619</td>\n",
       "      <td>France</td>\n",
       "      <td>Female</td>\n",
       "      <td>42</td>\n",
       "      <td>2</td>\n",
       "      <td>0.00</td>\n",
       "      <td>1</td>\n",
       "      <td>1</td>\n",
       "      <td>1</td>\n",
       "      <td>101348.88</td>\n",
       "      <td>1</td>\n",
       "    </tr>\n",
       "    <tr>\n",
       "      <th>1</th>\n",
       "      <td>2</td>\n",
       "      <td>15647311</td>\n",
       "      <td>Hill</td>\n",
       "      <td>608</td>\n",
       "      <td>Spain</td>\n",
       "      <td>Female</td>\n",
       "      <td>41</td>\n",
       "      <td>1</td>\n",
       "      <td>83807.86</td>\n",
       "      <td>1</td>\n",
       "      <td>0</td>\n",
       "      <td>1</td>\n",
       "      <td>112542.58</td>\n",
       "      <td>0</td>\n",
       "    </tr>\n",
       "    <tr>\n",
       "      <th>2</th>\n",
       "      <td>3</td>\n",
       "      <td>15619304</td>\n",
       "      <td>Onio</td>\n",
       "      <td>502</td>\n",
       "      <td>France</td>\n",
       "      <td>Female</td>\n",
       "      <td>42</td>\n",
       "      <td>8</td>\n",
       "      <td>159660.80</td>\n",
       "      <td>3</td>\n",
       "      <td>1</td>\n",
       "      <td>0</td>\n",
       "      <td>113931.57</td>\n",
       "      <td>1</td>\n",
       "    </tr>\n",
       "    <tr>\n",
       "      <th>3</th>\n",
       "      <td>4</td>\n",
       "      <td>15701354</td>\n",
       "      <td>Boni</td>\n",
       "      <td>699</td>\n",
       "      <td>France</td>\n",
       "      <td>Female</td>\n",
       "      <td>39</td>\n",
       "      <td>1</td>\n",
       "      <td>0.00</td>\n",
       "      <td>2</td>\n",
       "      <td>0</td>\n",
       "      <td>0</td>\n",
       "      <td>93826.63</td>\n",
       "      <td>0</td>\n",
       "    </tr>\n",
       "    <tr>\n",
       "      <th>4</th>\n",
       "      <td>5</td>\n",
       "      <td>15737888</td>\n",
       "      <td>Mitchell</td>\n",
       "      <td>850</td>\n",
       "      <td>Spain</td>\n",
       "      <td>Female</td>\n",
       "      <td>43</td>\n",
       "      <td>2</td>\n",
       "      <td>125510.82</td>\n",
       "      <td>1</td>\n",
       "      <td>1</td>\n",
       "      <td>1</td>\n",
       "      <td>79084.1</td>\n",
       "      <td>0</td>\n",
       "    </tr>\n",
       "  </tbody>\n",
       "</table>\n",
       "</div>"
      ],
      "text/plain": [
       "   RowNumber  CustomerId   Surname  CreditScore Geography  Gender  Age  \\\n",
       "0          1    15634602  Hargrave          619    France  Female   42   \n",
       "1          2    15647311      Hill          608     Spain  Female   41   \n",
       "2          3    15619304      Onio          502    France  Female   42   \n",
       "3          4    15701354      Boni          699    France  Female   39   \n",
       "4          5    15737888  Mitchell          850     Spain  Female   43   \n",
       "\n",
       "   Tenure    Balance  NumOfProducts  HasCrCard  IsActiveMember  \\\n",
       "0       2       0.00              1          1               1   \n",
       "1       1   83807.86              1          0               1   \n",
       "2       8  159660.80              3          1               0   \n",
       "3       1       0.00              2          0               0   \n",
       "4       2  125510.82              1          1               1   \n",
       "\n",
       "  EstimatedSalary  Exited  \n",
       "0       101348.88       1  \n",
       "1       112542.58       0  \n",
       "2       113931.57       1  \n",
       "3        93826.63       0  \n",
       "4         79084.1       0  "
      ]
     },
     "execution_count": 3,
     "metadata": {},
     "output_type": "execute_result"
    }
   ],
   "source": [
    "df.head()"
   ]
  },
  {
   "cell_type": "code",
   "execution_count": 4,
   "id": "0c3d415b-c316-49bf-9697-89bc0aa9509f",
   "metadata": {},
   "outputs": [
    {
     "data": {
      "text/html": [
       "<div>\n",
       "<style scoped>\n",
       "    .dataframe tbody tr th:only-of-type {\n",
       "        vertical-align: middle;\n",
       "    }\n",
       "\n",
       "    .dataframe tbody tr th {\n",
       "        vertical-align: top;\n",
       "    }\n",
       "\n",
       "    .dataframe thead th {\n",
       "        text-align: right;\n",
       "    }\n",
       "</style>\n",
       "<table border=\"1\" class=\"dataframe\">\n",
       "  <thead>\n",
       "    <tr style=\"text-align: right;\">\n",
       "      <th></th>\n",
       "      <th>RowNumber</th>\n",
       "      <th>CustomerId</th>\n",
       "      <th>Surname</th>\n",
       "      <th>CreditScore</th>\n",
       "      <th>Geography</th>\n",
       "      <th>Gender</th>\n",
       "      <th>Age</th>\n",
       "      <th>Tenure</th>\n",
       "      <th>Balance</th>\n",
       "      <th>NumOfProducts</th>\n",
       "      <th>HasCrCard</th>\n",
       "      <th>IsActiveMember</th>\n",
       "      <th>EstimatedSalary</th>\n",
       "      <th>Exited</th>\n",
       "    </tr>\n",
       "  </thead>\n",
       "  <tbody>\n",
       "    <tr>\n",
       "      <th>9995</th>\n",
       "      <td>9996</td>\n",
       "      <td>15606229</td>\n",
       "      <td>Obijiaku</td>\n",
       "      <td>771</td>\n",
       "      <td>France</td>\n",
       "      <td>Male</td>\n",
       "      <td>39</td>\n",
       "      <td>5</td>\n",
       "      <td>0.00</td>\n",
       "      <td>2</td>\n",
       "      <td>1</td>\n",
       "      <td>0</td>\n",
       "      <td>96270.64</td>\n",
       "      <td>0</td>\n",
       "    </tr>\n",
       "    <tr>\n",
       "      <th>9996</th>\n",
       "      <td>9997</td>\n",
       "      <td>15569892</td>\n",
       "      <td>Johnstone</td>\n",
       "      <td>516</td>\n",
       "      <td>France</td>\n",
       "      <td>Male</td>\n",
       "      <td>35</td>\n",
       "      <td>10</td>\n",
       "      <td>57369.61</td>\n",
       "      <td>1</td>\n",
       "      <td>1</td>\n",
       "      <td>1</td>\n",
       "      <td>101699.77</td>\n",
       "      <td>0</td>\n",
       "    </tr>\n",
       "    <tr>\n",
       "      <th>9997</th>\n",
       "      <td>9998</td>\n",
       "      <td>15584532</td>\n",
       "      <td>Liu</td>\n",
       "      <td>709</td>\n",
       "      <td>France</td>\n",
       "      <td>Female</td>\n",
       "      <td>36</td>\n",
       "      <td>7</td>\n",
       "      <td>0.00</td>\n",
       "      <td>1</td>\n",
       "      <td>0</td>\n",
       "      <td>1</td>\n",
       "      <td>42085.58</td>\n",
       "      <td>1</td>\n",
       "    </tr>\n",
       "    <tr>\n",
       "      <th>9998</th>\n",
       "      <td>9999</td>\n",
       "      <td>15682355</td>\n",
       "      <td>Sabbatini</td>\n",
       "      <td>772</td>\n",
       "      <td>Germany</td>\n",
       "      <td>Male</td>\n",
       "      <td>42</td>\n",
       "      <td>3</td>\n",
       "      <td>75075.31</td>\n",
       "      <td>2</td>\n",
       "      <td>1</td>\n",
       "      <td>0</td>\n",
       "      <td>92888.52</td>\n",
       "      <td>1</td>\n",
       "    </tr>\n",
       "    <tr>\n",
       "      <th>9999</th>\n",
       "      <td>10000</td>\n",
       "      <td>15628319</td>\n",
       "      <td>Walker</td>\n",
       "      <td>792</td>\n",
       "      <td>France</td>\n",
       "      <td>Female</td>\n",
       "      <td>28</td>\n",
       "      <td>4</td>\n",
       "      <td>130142.79</td>\n",
       "      <td>1</td>\n",
       "      <td>1</td>\n",
       "      <td>0</td>\n",
       "      <td>38190.78</td>\n",
       "      <td>0</td>\n",
       "    </tr>\n",
       "  </tbody>\n",
       "</table>\n",
       "</div>"
      ],
      "text/plain": [
       "      RowNumber  CustomerId    Surname  CreditScore Geography  Gender  Age  \\\n",
       "9995       9996    15606229   Obijiaku          771    France    Male   39   \n",
       "9996       9997    15569892  Johnstone          516    France    Male   35   \n",
       "9997       9998    15584532        Liu          709    France  Female   36   \n",
       "9998       9999    15682355  Sabbatini          772   Germany    Male   42   \n",
       "9999      10000    15628319     Walker          792    France  Female   28   \n",
       "\n",
       "      Tenure    Balance  NumOfProducts  HasCrCard  IsActiveMember  \\\n",
       "9995       5       0.00              2          1               0   \n",
       "9996      10   57369.61              1          1               1   \n",
       "9997       7       0.00              1          0               1   \n",
       "9998       3   75075.31              2          1               0   \n",
       "9999       4  130142.79              1          1               0   \n",
       "\n",
       "     EstimatedSalary  Exited  \n",
       "9995        96270.64       0  \n",
       "9996       101699.77       0  \n",
       "9997        42085.58       1  \n",
       "9998        92888.52       1  \n",
       "9999        38190.78       0  "
      ]
     },
     "execution_count": 4,
     "metadata": {},
     "output_type": "execute_result"
    }
   ],
   "source": [
    "df.tail()"
   ]
  },
  {
   "cell_type": "code",
   "execution_count": 5,
   "id": "8bf90acb-8ed0-4aac-91ad-f354e15b5983",
   "metadata": {},
   "outputs": [
    {
     "data": {
      "text/html": [
       "<div>\n",
       "<style scoped>\n",
       "    .dataframe tbody tr th:only-of-type {\n",
       "        vertical-align: middle;\n",
       "    }\n",
       "\n",
       "    .dataframe tbody tr th {\n",
       "        vertical-align: top;\n",
       "    }\n",
       "\n",
       "    .dataframe thead th {\n",
       "        text-align: right;\n",
       "    }\n",
       "</style>\n",
       "<table border=\"1\" class=\"dataframe\">\n",
       "  <thead>\n",
       "    <tr style=\"text-align: right;\">\n",
       "      <th></th>\n",
       "      <th>RowNumber</th>\n",
       "      <th>CustomerId</th>\n",
       "      <th>Surname</th>\n",
       "      <th>CreditScore</th>\n",
       "      <th>Geography</th>\n",
       "      <th>Gender</th>\n",
       "      <th>Age</th>\n",
       "      <th>Tenure</th>\n",
       "      <th>Balance</th>\n",
       "      <th>NumOfProducts</th>\n",
       "      <th>HasCrCard</th>\n",
       "      <th>IsActiveMember</th>\n",
       "      <th>EstimatedSalary</th>\n",
       "      <th>Exited</th>\n",
       "    </tr>\n",
       "  </thead>\n",
       "  <tbody>\n",
       "    <tr>\n",
       "      <th>9476</th>\n",
       "      <td>9477</td>\n",
       "      <td>15571529</td>\n",
       "      <td>Kirby</td>\n",
       "      <td>650</td>\n",
       "      <td>Germany</td>\n",
       "      <td>Female</td>\n",
       "      <td>48</td>\n",
       "      <td>7</td>\n",
       "      <td>138232.24</td>\n",
       "      <td>1</td>\n",
       "      <td>1</td>\n",
       "      <td>0</td>\n",
       "      <td>57594.78</td>\n",
       "      <td>0</td>\n",
       "    </tr>\n",
       "  </tbody>\n",
       "</table>\n",
       "</div>"
      ],
      "text/plain": [
       "      RowNumber  CustomerId Surname  CreditScore Geography  Gender  Age  \\\n",
       "9476       9477    15571529   Kirby          650   Germany  Female   48   \n",
       "\n",
       "      Tenure    Balance  NumOfProducts  HasCrCard  IsActiveMember  \\\n",
       "9476       7  138232.24              1          1               0   \n",
       "\n",
       "     EstimatedSalary  Exited  \n",
       "9476        57594.78       0  "
      ]
     },
     "execution_count": 5,
     "metadata": {},
     "output_type": "execute_result"
    }
   ],
   "source": [
    "df.sample()"
   ]
  },
  {
   "cell_type": "code",
   "execution_count": 6,
   "id": "8bcab238-856b-4224-a8ac-0c7166dafd72",
   "metadata": {},
   "outputs": [
    {
     "data": {
      "text/plain": [
       "(10000, 14)"
      ]
     },
     "execution_count": 6,
     "metadata": {},
     "output_type": "execute_result"
    }
   ],
   "source": [
    "df.shape"
   ]
  },
  {
   "cell_type": "code",
   "execution_count": 7,
   "id": "f8eb4c03-fcba-49a8-a778-1faa462f9368",
   "metadata": {},
   "outputs": [
    {
     "data": {
      "text/plain": [
       "140000"
      ]
     },
     "execution_count": 7,
     "metadata": {},
     "output_type": "execute_result"
    }
   ],
   "source": [
    "df.size"
   ]
  },
  {
   "cell_type": "code",
   "execution_count": 8,
   "id": "48dbb09f-ec89-4ab0-90ac-8af7b527676b",
   "metadata": {},
   "outputs": [
    {
     "data": {
      "text/plain": [
       "['RowNumber',\n",
       " 'CustomerId',\n",
       " 'Surname',\n",
       " 'CreditScore',\n",
       " 'Geography',\n",
       " 'Gender',\n",
       " 'Age',\n",
       " 'Tenure',\n",
       " 'Balance',\n",
       " 'NumOfProducts',\n",
       " 'HasCrCard',\n",
       " 'IsActiveMember',\n",
       " 'EstimatedSalary',\n",
       " 'Exited']"
      ]
     },
     "execution_count": 8,
     "metadata": {},
     "output_type": "execute_result"
    }
   ],
   "source": [
    "df.columns.to_list()"
   ]
  },
  {
   "cell_type": "code",
   "execution_count": 9,
   "id": "ce6c53e7-a239-4280-b360-adf2379b214d",
   "metadata": {},
   "outputs": [
    {
     "name": "stdout",
     "output_type": "stream",
     "text": [
      "<class 'pandas.core.frame.DataFrame'>\n",
      "RangeIndex: 10000 entries, 0 to 9999\n",
      "Data columns (total 14 columns):\n",
      " #   Column           Non-Null Count  Dtype  \n",
      "---  ------           --------------  -----  \n",
      " 0   RowNumber        10000 non-null  int64  \n",
      " 1   CustomerId       10000 non-null  int64  \n",
      " 2   Surname          10000 non-null  object \n",
      " 3   CreditScore      10000 non-null  int64  \n",
      " 4   Geography        9995 non-null   object \n",
      " 5   Gender           9994 non-null   object \n",
      " 6   Age              10000 non-null  int64  \n",
      " 7   Tenure           10000 non-null  int64  \n",
      " 8   Balance          10000 non-null  float64\n",
      " 9   NumOfProducts    10000 non-null  int64  \n",
      " 10  HasCrCard        10000 non-null  int64  \n",
      " 11  IsActiveMember   10000 non-null  int64  \n",
      " 12  EstimatedSalary  9992 non-null   object \n",
      " 13  Exited           10000 non-null  int64  \n",
      "dtypes: float64(1), int64(9), object(4)\n",
      "memory usage: 1.1+ MB\n"
     ]
    }
   ],
   "source": [
    "df.info()"
   ]
  },
  {
   "cell_type": "markdown",
   "id": "e1c09ef5-eb15-46fe-9051-85582126ef05",
   "metadata": {},
   "source": [
    "- **Columns Info:-**\n",
    "- **CreditScore:** Credit rating of the customer.\n",
    "- **Geography:** Country of the customer.\n",
    "- **Gender:** Male/Female.\n",
    "- **Age:** Age of the customer.\n",
    "- **Tenure:** Number of years as a customer.\n",
    "- **Balance:** Account balance.\n",
    "- **NumOfProducts:** Number of bank products used.\n",
    "- **HasCrCard:** Whether the customer has a credit card.\n",
    "- **IsActiveMember:** Whether the customer is active.\n",
    "- **EstimatedSalary:** Estimated salary.\n",
    "- **Exited:** Target variable (1 = Churned, 0 = Stayed)."
   ]
  },
  {
   "cell_type": "markdown",
   "id": "3e7455de-ec02-4f7b-91c5-1725f4845ae1",
   "metadata": {},
   "source": [
    "# Data Exploration & Manipulation"
   ]
  },
  {
   "cell_type": "code",
   "execution_count": 10,
   "id": "c3b2c0d9-6a7e-42e3-9549-068168385846",
   "metadata": {},
   "outputs": [
    {
     "name": "stdout",
     "output_type": "stream",
     "text": [
      "<class 'pandas.core.frame.DataFrame'>\n",
      "RangeIndex: 10000 entries, 0 to 9999\n",
      "Data columns (total 14 columns):\n",
      " #   Column           Non-Null Count  Dtype  \n",
      "---  ------           --------------  -----  \n",
      " 0   RowNumber        10000 non-null  int64  \n",
      " 1   CustomerId       10000 non-null  int64  \n",
      " 2   Surname          10000 non-null  object \n",
      " 3   CreditScore      10000 non-null  int64  \n",
      " 4   Geography        9995 non-null   object \n",
      " 5   Gender           9994 non-null   object \n",
      " 6   Age              10000 non-null  int64  \n",
      " 7   Tenure           10000 non-null  int64  \n",
      " 8   Balance          10000 non-null  float64\n",
      " 9   NumOfProducts    10000 non-null  int64  \n",
      " 10  HasCrCard        10000 non-null  int64  \n",
      " 11  IsActiveMember   10000 non-null  int64  \n",
      " 12  EstimatedSalary  9992 non-null   object \n",
      " 13  Exited           10000 non-null  int64  \n",
      "dtypes: float64(1), int64(9), object(4)\n",
      "memory usage: 1.1+ MB\n"
     ]
    }
   ],
   "source": [
    "df .info()"
   ]
  },
  {
   "cell_type": "code",
   "execution_count": 11,
   "id": "344792fc-3536-45b5-9d7d-26881b43d879",
   "metadata": {},
   "outputs": [
    {
     "data": {
      "text/html": [
       "<div>\n",
       "<style scoped>\n",
       "    .dataframe tbody tr th:only-of-type {\n",
       "        vertical-align: middle;\n",
       "    }\n",
       "\n",
       "    .dataframe tbody tr th {\n",
       "        vertical-align: top;\n",
       "    }\n",
       "\n",
       "    .dataframe thead th {\n",
       "        text-align: right;\n",
       "    }\n",
       "</style>\n",
       "<table border=\"1\" class=\"dataframe\">\n",
       "  <thead>\n",
       "    <tr style=\"text-align: right;\">\n",
       "      <th></th>\n",
       "      <th>RowNumber</th>\n",
       "      <th>CustomerId</th>\n",
       "      <th>CreditScore</th>\n",
       "      <th>Age</th>\n",
       "      <th>Tenure</th>\n",
       "      <th>Balance</th>\n",
       "      <th>NumOfProducts</th>\n",
       "      <th>HasCrCard</th>\n",
       "      <th>IsActiveMember</th>\n",
       "      <th>Exited</th>\n",
       "    </tr>\n",
       "  </thead>\n",
       "  <tbody>\n",
       "    <tr>\n",
       "      <th>count</th>\n",
       "      <td>10000.00000</td>\n",
       "      <td>1.000000e+04</td>\n",
       "      <td>10000.000000</td>\n",
       "      <td>10000.000000</td>\n",
       "      <td>10000.000000</td>\n",
       "      <td>10000.000000</td>\n",
       "      <td>10000.000000</td>\n",
       "      <td>10000.00000</td>\n",
       "      <td>10000.000000</td>\n",
       "      <td>10000.000000</td>\n",
       "    </tr>\n",
       "    <tr>\n",
       "      <th>mean</th>\n",
       "      <td>5000.50000</td>\n",
       "      <td>1.569094e+07</td>\n",
       "      <td>650.531000</td>\n",
       "      <td>38.921800</td>\n",
       "      <td>5.012800</td>\n",
       "      <td>76485.889288</td>\n",
       "      <td>1.530200</td>\n",
       "      <td>0.70550</td>\n",
       "      <td>0.515100</td>\n",
       "      <td>0.203700</td>\n",
       "    </tr>\n",
       "    <tr>\n",
       "      <th>std</th>\n",
       "      <td>2886.89568</td>\n",
       "      <td>7.193619e+04</td>\n",
       "      <td>96.655631</td>\n",
       "      <td>10.487806</td>\n",
       "      <td>2.892174</td>\n",
       "      <td>62397.405202</td>\n",
       "      <td>0.581654</td>\n",
       "      <td>0.45584</td>\n",
       "      <td>0.499797</td>\n",
       "      <td>0.402769</td>\n",
       "    </tr>\n",
       "    <tr>\n",
       "      <th>min</th>\n",
       "      <td>1.00000</td>\n",
       "      <td>1.556570e+07</td>\n",
       "      <td>350.000000</td>\n",
       "      <td>18.000000</td>\n",
       "      <td>0.000000</td>\n",
       "      <td>0.000000</td>\n",
       "      <td>1.000000</td>\n",
       "      <td>0.00000</td>\n",
       "      <td>0.000000</td>\n",
       "      <td>0.000000</td>\n",
       "    </tr>\n",
       "    <tr>\n",
       "      <th>25%</th>\n",
       "      <td>2500.75000</td>\n",
       "      <td>1.562853e+07</td>\n",
       "      <td>584.000000</td>\n",
       "      <td>32.000000</td>\n",
       "      <td>3.000000</td>\n",
       "      <td>0.000000</td>\n",
       "      <td>1.000000</td>\n",
       "      <td>0.00000</td>\n",
       "      <td>0.000000</td>\n",
       "      <td>0.000000</td>\n",
       "    </tr>\n",
       "    <tr>\n",
       "      <th>50%</th>\n",
       "      <td>5000.50000</td>\n",
       "      <td>1.569074e+07</td>\n",
       "      <td>652.000000</td>\n",
       "      <td>37.000000</td>\n",
       "      <td>5.000000</td>\n",
       "      <td>97198.540000</td>\n",
       "      <td>1.000000</td>\n",
       "      <td>1.00000</td>\n",
       "      <td>1.000000</td>\n",
       "      <td>0.000000</td>\n",
       "    </tr>\n",
       "    <tr>\n",
       "      <th>75%</th>\n",
       "      <td>7500.25000</td>\n",
       "      <td>1.575323e+07</td>\n",
       "      <td>718.000000</td>\n",
       "      <td>44.000000</td>\n",
       "      <td>7.000000</td>\n",
       "      <td>127644.240000</td>\n",
       "      <td>2.000000</td>\n",
       "      <td>1.00000</td>\n",
       "      <td>1.000000</td>\n",
       "      <td>0.000000</td>\n",
       "    </tr>\n",
       "    <tr>\n",
       "      <th>max</th>\n",
       "      <td>10000.00000</td>\n",
       "      <td>1.581569e+07</td>\n",
       "      <td>850.000000</td>\n",
       "      <td>92.000000</td>\n",
       "      <td>10.000000</td>\n",
       "      <td>250898.090000</td>\n",
       "      <td>4.000000</td>\n",
       "      <td>1.00000</td>\n",
       "      <td>1.000000</td>\n",
       "      <td>1.000000</td>\n",
       "    </tr>\n",
       "  </tbody>\n",
       "</table>\n",
       "</div>"
      ],
      "text/plain": [
       "         RowNumber    CustomerId   CreditScore           Age        Tenure  \\\n",
       "count  10000.00000  1.000000e+04  10000.000000  10000.000000  10000.000000   \n",
       "mean    5000.50000  1.569094e+07    650.531000     38.921800      5.012800   \n",
       "std     2886.89568  7.193619e+04     96.655631     10.487806      2.892174   \n",
       "min        1.00000  1.556570e+07    350.000000     18.000000      0.000000   \n",
       "25%     2500.75000  1.562853e+07    584.000000     32.000000      3.000000   \n",
       "50%     5000.50000  1.569074e+07    652.000000     37.000000      5.000000   \n",
       "75%     7500.25000  1.575323e+07    718.000000     44.000000      7.000000   \n",
       "max    10000.00000  1.581569e+07    850.000000     92.000000     10.000000   \n",
       "\n",
       "             Balance  NumOfProducts    HasCrCard  IsActiveMember        Exited  \n",
       "count   10000.000000   10000.000000  10000.00000    10000.000000  10000.000000  \n",
       "mean    76485.889288       1.530200      0.70550        0.515100      0.203700  \n",
       "std     62397.405202       0.581654      0.45584        0.499797      0.402769  \n",
       "min         0.000000       1.000000      0.00000        0.000000      0.000000  \n",
       "25%         0.000000       1.000000      0.00000        0.000000      0.000000  \n",
       "50%     97198.540000       1.000000      1.00000        1.000000      0.000000  \n",
       "75%    127644.240000       2.000000      1.00000        1.000000      0.000000  \n",
       "max    250898.090000       4.000000      1.00000        1.000000      1.000000  "
      ]
     },
     "execution_count": 11,
     "metadata": {},
     "output_type": "execute_result"
    }
   ],
   "source": [
    "df.describe()"
   ]
  },
  {
   "cell_type": "code",
   "execution_count": 12,
   "id": "4be1768d-6c36-41b2-b021-b9bdd519bf8f",
   "metadata": {},
   "outputs": [
    {
     "data": {
      "text/plain": [
       "array([15634602, 15647311, 15619304, ..., 15584532, 15682355, 15628319],\n",
       "      dtype=int64)"
      ]
     },
     "execution_count": 12,
     "metadata": {},
     "output_type": "execute_result"
    }
   ],
   "source": [
    "df['CustomerId'].unique()"
   ]
  },
  {
   "cell_type": "code",
   "execution_count": 13,
   "id": "9bcd5796-6e48-4385-b8d6-b0b4c7f7164b",
   "metadata": {},
   "outputs": [
    {
     "data": {
      "text/plain": [
       "10000"
      ]
     },
     "execution_count": 13,
     "metadata": {},
     "output_type": "execute_result"
    }
   ],
   "source": [
    "df['CustomerId'].nunique()"
   ]
  },
  {
   "cell_type": "markdown",
   "id": "1a3b2c02-03cf-48e5-b22d-d654f463df36",
   "metadata": {},
   "source": [
    "### conclusion: Each CustomerId is unique, confirming that every row represents a distinct customer."
   ]
  },
  {
   "cell_type": "code",
   "execution_count": 14,
   "id": "82197deb-8d40-4263-a833-aa0d4fb11bf2",
   "metadata": {},
   "outputs": [
    {
     "data": {
      "text/plain": [
       "array(['Hargrave', 'Hill', 'Onio', ..., 'Kashiwagi', 'Aldridge',\n",
       "       'Burbidge'], dtype=object)"
      ]
     },
     "execution_count": 14,
     "metadata": {},
     "output_type": "execute_result"
    }
   ],
   "source": [
    "df['Surname'].unique()"
   ]
  },
  {
   "cell_type": "code",
   "execution_count": 15,
   "id": "f5b0ce77-6d93-4507-8ed9-688324c5c9f3",
   "metadata": {},
   "outputs": [
    {
     "data": {
      "text/plain": [
       "2932"
      ]
     },
     "execution_count": 15,
     "metadata": {},
     "output_type": "execute_result"
    }
   ],
   "source": [
    "df['Surname'].nunique()"
   ]
  },
  {
   "cell_type": "markdown",
   "id": "a1cd7ea0-9438-40c1-b0d6-9972524ad0b4",
   "metadata": {},
   "source": [
    "### Conclusion: The dataset contains 2,932 unique surnames, indicating that multiple customers may share the same surname."
   ]
  },
  {
   "cell_type": "code",
   "execution_count": 16,
   "id": "24f8ec2c-ac21-40db-ac5f-455a3dac891a",
   "metadata": {},
   "outputs": [
    {
     "data": {
      "text/plain": [
       "array([619, 608, 502, 699, 850, 645, 822, 376, 501, 684, 528, 497, 476,\n",
       "       549, 635, 616, 653, 587, 726, 732, 636, 510, 669, 846, 577, 756,\n",
       "       571, 574, 411, 591, 533, 553, 520, 722, 475, 490, 804, 582, 472,\n",
       "       465, 556, 834, 660, 776, 829, 637, 550, 698, 585, 788, 655, 601,\n",
       "       656, 725, 511, 614, 764, 687, 555, 603, 751, 581, 735, 661, 675,\n",
       "       738, 813, 657, 604, 519, 664, 678, 757, 416, 665, 777, 543, 506,\n",
       "       493, 652, 750, 729, 646, 647, 808, 524, 769, 730, 515, 773, 814,\n",
       "       710, 413, 623, 670, 622, 785, 605, 479, 685, 538, 562, 721, 628,\n",
       "       668, 828, 674, 625, 432, 770, 758, 795, 686, 789, 589, 461, 584,\n",
       "       579, 663, 682, 793, 691, 485, 650, 754, 535, 716, 539, 706, 586,\n",
       "       631, 717, 800, 683, 704, 615, 667, 484, 480, 578, 512, 606, 597,\n",
       "       778, 514, 525, 715, 580, 807, 521, 759, 516, 711, 618, 643, 671,\n",
       "       689, 620, 676, 572, 695, 592, 567, 694, 547, 594, 673, 610, 767,\n",
       "       763, 712, 703, 662, 659, 523, 772, 545, 634, 739, 771, 681, 544,\n",
       "       696, 766, 727, 693, 557, 531, 498, 651, 791, 733, 811, 707, 714,\n",
       "       782, 775, 799, 602, 744, 588, 747, 583, 627, 731, 629, 438, 642,\n",
       "       806, 474, 559, 429, 680, 749, 734, 644, 626, 649, 805, 718, 840,\n",
       "       630, 654, 762, 568, 613, 522, 737, 648, 443, 640, 540, 460, 593,\n",
       "       801, 611, 802, 745, 483, 690, 492, 709, 705, 560, 752, 701, 537,\n",
       "       487, 596, 702, 486, 724, 548, 464, 790, 534, 748, 494, 590, 468,\n",
       "       509, 818, 816, 536, 753, 774, 621, 569, 658, 798, 641, 542, 692,\n",
       "       639, 765, 570, 638, 599, 632, 779, 527, 564, 833, 504, 842, 508,\n",
       "       417, 598, 741, 607, 761, 848, 546, 439, 755, 760, 526, 713, 700,\n",
       "       666, 566, 495, 688, 612, 477, 427, 839, 819, 720, 459, 503, 624,\n",
       "       529, 563, 482, 796, 445, 746, 742, 786, 554, 672, 787, 499, 844,\n",
       "       450, 815, 838, 803, 736, 633, 600, 679, 517, 792, 743, 488, 421,\n",
       "       841, 708, 507, 505, 456, 435, 561, 518, 565, 728, 784, 552, 609,\n",
       "       697, 723, 551, 444, 719, 496, 541, 830, 812, 677, 420, 595, 617,\n",
       "       809, 500, 826, 434, 513, 478, 797, 363, 399, 463, 780, 452, 575,\n",
       "       837, 794, 824, 428, 823, 781, 849, 489, 431, 457, 768, 831, 359,\n",
       "       820, 573, 576, 558, 817, 449, 440, 415, 821, 530, 350, 446, 425,\n",
       "       740, 481, 783, 358, 845, 451, 458, 469, 423, 404, 836, 473, 835,\n",
       "       466, 491, 351, 827, 843, 365, 532, 414, 453, 471, 401, 810, 832,\n",
       "       470, 447, 422, 825, 430, 436, 426, 408, 847, 418, 437, 410, 454,\n",
       "       407, 455, 462, 386, 405, 383, 395, 467, 433, 442, 424, 448, 441,\n",
       "       367, 412, 382, 373, 419], dtype=int64)"
      ]
     },
     "execution_count": 16,
     "metadata": {},
     "output_type": "execute_result"
    }
   ],
   "source": [
    "df['CreditScore'].unique()"
   ]
  },
  {
   "cell_type": "code",
   "execution_count": 17,
   "id": "22763e97-d913-4ed3-8437-62ca4ba264d3",
   "metadata": {},
   "outputs": [
    {
     "data": {
      "text/plain": [
       "460"
      ]
     },
     "execution_count": 17,
     "metadata": {},
     "output_type": "execute_result"
    }
   ],
   "source": [
    "df['CreditScore'].nunique()"
   ]
  },
  {
   "cell_type": "markdown",
   "id": "5fcb53db-ba39-4ccd-8689-49b9f5a03ddf",
   "metadata": {},
   "source": [
    "### Conclusion:The dataset contains 460 unique credit scores, showing a wide range of customer creditworthiness levels"
   ]
  },
  {
   "cell_type": "code",
   "execution_count": 18,
   "id": "a35d68f0-04db-4d32-8df8-0089b7a244f8",
   "metadata": {},
   "outputs": [
    {
     "data": {
      "text/plain": [
       "array(['France', 'Spain', 'Germany', '0', ' ', nan], dtype=object)"
      ]
     },
     "execution_count": 18,
     "metadata": {},
     "output_type": "execute_result"
    }
   ],
   "source": [
    "df['Geography'].unique()"
   ]
  },
  {
   "cell_type": "code",
   "execution_count": 19,
   "id": "85bc44ac-b0ff-47b5-a5dc-65ff3140c6e5",
   "metadata": {},
   "outputs": [
    {
     "data": {
      "text/plain": [
       "5"
      ]
     },
     "execution_count": 19,
     "metadata": {},
     "output_type": "execute_result"
    }
   ],
   "source": [
    "df['Geography'].nunique()"
   ]
  },
  {
   "cell_type": "markdown",
   "id": "7eef0f07-f653-499d-b3f7-8ba714e93f31",
   "metadata": {},
   "source": [
    "### Conclusion: The Dataset Contain 3 unique Country France,Germany,Spain"
   ]
  },
  {
   "cell_type": "code",
   "execution_count": 20,
   "id": "5d097ebb-2eae-441b-a9f5-3837fe1cf8ce",
   "metadata": {},
   "outputs": [
    {
     "data": {
      "text/plain": [
       "array(['Female', 'Male', nan, ' '], dtype=object)"
      ]
     },
     "execution_count": 20,
     "metadata": {},
     "output_type": "execute_result"
    }
   ],
   "source": [
    "df['Gender'].unique()"
   ]
  },
  {
   "cell_type": "code",
   "execution_count": 21,
   "id": "7ea26b9b-c167-452f-9d85-0e67c0b05764",
   "metadata": {},
   "outputs": [
    {
     "data": {
      "text/plain": [
       "3"
      ]
     },
     "execution_count": 21,
     "metadata": {},
     "output_type": "execute_result"
    }
   ],
   "source": [
    "df['Gender'].nunique()"
   ]
  },
  {
   "cell_type": "markdown",
   "id": "817f61c9-2669-419e-9c8a-31c3ad44ec19",
   "metadata": {},
   "source": [
    "### Conclusion:The dataset contains two genders — Male and Female."
   ]
  },
  {
   "cell_type": "code",
   "execution_count": 22,
   "id": "7c3d70f0-83c3-497f-93db-ac78b70de65c",
   "metadata": {},
   "outputs": [
    {
     "data": {
      "text/plain": [
       "array([ 2,  1,  8,  7,  4,  6,  3, 10,  5,  9,  0], dtype=int64)"
      ]
     },
     "execution_count": 22,
     "metadata": {},
     "output_type": "execute_result"
    }
   ],
   "source": [
    "df['Tenure'].unique()"
   ]
  },
  {
   "cell_type": "code",
   "execution_count": 23,
   "id": "54469a9c-092a-46f9-85e0-dade44899168",
   "metadata": {},
   "outputs": [
    {
     "data": {
      "text/plain": [
       "11"
      ]
     },
     "execution_count": 23,
     "metadata": {},
     "output_type": "execute_result"
    }
   ],
   "source": [
    "df['Tenure'].nunique()"
   ]
  },
  {
   "cell_type": "markdown",
   "id": "b942d9d8-5345-4a91-a0cd-f8e0692fbfb6",
   "metadata": {},
   "source": [
    "### conclusion:Customers have 11 distinct tenure values, ranging from 0 to 10 years."
   ]
  },
  {
   "cell_type": "code",
   "execution_count": 24,
   "id": "b83704b2-fd35-441f-ad35-7a3d0f7cbdd7",
   "metadata": {},
   "outputs": [
    {
     "data": {
      "text/plain": [
       "array([     0.  ,  83807.86, 159660.8 , ...,  57369.61,  75075.31,\n",
       "       130142.79])"
      ]
     },
     "execution_count": 24,
     "metadata": {},
     "output_type": "execute_result"
    }
   ],
   "source": [
    "df['Balance'].unique()"
   ]
  },
  {
   "cell_type": "code",
   "execution_count": 25,
   "id": "fc62baf8-a1e7-44be-bd74-c7efd9ea2614",
   "metadata": {},
   "outputs": [
    {
     "data": {
      "text/plain": [
       "6382"
      ]
     },
     "execution_count": 25,
     "metadata": {},
     "output_type": "execute_result"
    }
   ],
   "source": [
    "df['Balance'].nunique()"
   ]
  },
  {
   "cell_type": "markdown",
   "id": "4bef00d0-8fa3-48a9-8855-33399d7a9d60",
   "metadata": {},
   "source": [
    "### ConclusionThere are 6,382 unique account balance values, ranging from zero to high-value accounts, indicating diverse financial standings."
   ]
  },
  {
   "cell_type": "code",
   "execution_count": 26,
   "id": "33c8738a-ef7f-431b-81d0-68ec164151df",
   "metadata": {},
   "outputs": [
    {
     "data": {
      "text/plain": [
       "array([1, 0], dtype=int64)"
      ]
     },
     "execution_count": 26,
     "metadata": {},
     "output_type": "execute_result"
    }
   ],
   "source": [
    "df['HasCrCard'].unique()"
   ]
  },
  {
   "cell_type": "code",
   "execution_count": 27,
   "id": "7fab96d4-a6f2-43af-aacb-774f6d9751f0",
   "metadata": {},
   "outputs": [
    {
     "data": {
      "text/plain": [
       "2"
      ]
     },
     "execution_count": 27,
     "metadata": {},
     "output_type": "execute_result"
    }
   ],
   "source": [
    "df['HasCrCard'].nunique()"
   ]
  },
  {
   "cell_type": "markdown",
   "id": "4dfdcbde-f805-43e3-85df-44ffd0d82304",
   "metadata": {},
   "source": [
    "### Conclusion:The dataset shows that the HasCrCard feature is binary with two distinct values (0 and 1), indicating whether a customer has a credit card or not."
   ]
  },
  {
   "cell_type": "code",
   "execution_count": 28,
   "id": "ebddb3ef-c100-4a9b-9dcb-508756fb1581",
   "metadata": {},
   "outputs": [
    {
     "data": {
      "text/plain": [
       "array([1, 0], dtype=int64)"
      ]
     },
     "execution_count": 28,
     "metadata": {},
     "output_type": "execute_result"
    }
   ],
   "source": [
    "df['IsActiveMember'].unique()"
   ]
  },
  {
   "cell_type": "code",
   "execution_count": 29,
   "id": "9d32bf8c-5e2b-4745-9325-34167bd46c11",
   "metadata": {},
   "outputs": [
    {
     "data": {
      "text/plain": [
       "2"
      ]
     },
     "execution_count": 29,
     "metadata": {},
     "output_type": "execute_result"
    }
   ],
   "source": [
    "df['IsActiveMember'].nunique()"
   ]
  },
  {
   "cell_type": "markdown",
   "id": "d94debec-d4f8-4cfe-8763-13a77c38d53e",
   "metadata": {},
   "source": [
    "### Conclusion:The IsActiveMember column is binary with two unique values (0 and 1), representing whether a customer is an active member or not"
   ]
  },
  {
   "cell_type": "code",
   "execution_count": 30,
   "id": "3e171907-f961-468e-bca6-a7fb20ce151b",
   "metadata": {},
   "outputs": [
    {
     "data": {
      "text/plain": [
       "array(['101348.88', '112542.58', '113931.57', ..., '42085.58', '92888.52',\n",
       "       '38190.78'], dtype=object)"
      ]
     },
     "execution_count": 30,
     "metadata": {},
     "output_type": "execute_result"
    }
   ],
   "source": [
    "df['EstimatedSalary'].unique()"
   ]
  },
  {
   "cell_type": "code",
   "execution_count": 31,
   "id": "0d3c1b5a-7834-4401-8c4b-b6bd4a07702b",
   "metadata": {},
   "outputs": [
    {
     "data": {
      "text/plain": [
       "9987"
      ]
     },
     "execution_count": 31,
     "metadata": {},
     "output_type": "execute_result"
    }
   ],
   "source": [
    "df['EstimatedSalary'].nunique()"
   ]
  },
  {
   "cell_type": "markdown",
   "id": "45cc7ece-6c88-418c-b1ea-1e46e6d49313",
   "metadata": {},
   "source": [
    "### Conclusion:The EstimatedSalary feature has 9,999 unique values, showing high variability and granularity in customers' estimated salaries"
   ]
  },
  {
   "cell_type": "code",
   "execution_count": 32,
   "id": "3c2e80df-8dde-4f6c-b96b-711c5bb3a43f",
   "metadata": {},
   "outputs": [
    {
     "data": {
      "text/plain": [
       "0"
      ]
     },
     "execution_count": 32,
     "metadata": {},
     "output_type": "execute_result"
    }
   ],
   "source": [
    "df.duplicated().sum()"
   ]
  },
  {
   "cell_type": "markdown",
   "id": "3fe25145-9f40-4249-96b6-3c96062f6e14",
   "metadata": {},
   "source": [
    "### Conclusion: No Duplicate Values"
   ]
  },
  {
   "cell_type": "code",
   "execution_count": 33,
   "id": "d65c432a-6f24-4128-b9f3-ecc7ee4f43bd",
   "metadata": {},
   "outputs": [
    {
     "data": {
      "text/plain": [
       "RowNumber          0\n",
       "CustomerId         0\n",
       "Surname            0\n",
       "CreditScore        0\n",
       "Geography          5\n",
       "Gender             6\n",
       "Age                0\n",
       "Tenure             0\n",
       "Balance            0\n",
       "NumOfProducts      0\n",
       "HasCrCard          0\n",
       "IsActiveMember     0\n",
       "EstimatedSalary    8\n",
       "Exited             0\n",
       "dtype: int64"
      ]
     },
     "execution_count": 33,
     "metadata": {},
     "output_type": "execute_result"
    }
   ],
   "source": [
    "df.isnull().sum()"
   ]
  },
  {
   "cell_type": "markdown",
   "id": "e13dfd8a-9a13-425b-980a-abad7ab92ebf",
   "metadata": {},
   "source": [
    "### Conclusion:The dataset has some missing values in a few columns:\n",
    "Geography: 5 missing values\n",
    "\n",
    "Gender: 6 missing values\n",
    "\n",
    "EstimatedSalary: 8 missing values\n",
    "\n",
    "All other columns have no missing data. These missing values should be handled before further analysis or modeling. Possible approaches include imputing with the mode/mean, or removing rows depending on the context and volume of missing data."
   ]
  },
  {
   "cell_type": "code",
   "execution_count": 34,
   "id": "f5a9ca77-fd88-4abb-be40-a49e8e9997b6",
   "metadata": {},
   "outputs": [],
   "source": [
    "# Handlin Missing Values\n",
    "df['Geography'].fillna(df['Geography'].mode()[0],inplace=True);"
   ]
  },
  {
   "cell_type": "code",
   "execution_count": 35,
   "id": "7e36adc9-5096-46a6-92e9-a7b53b765eea",
   "metadata": {},
   "outputs": [],
   "source": [
    "df['Gender'].fillna(df['Gender'].mode()[0],inplace=True);"
   ]
  },
  {
   "cell_type": "code",
   "execution_count": 36,
   "id": "6b6678c7-f718-4adb-b110-965c44bf502e",
   "metadata": {},
   "outputs": [],
   "source": [
    "df['EstimatedSalary'].fillna(df['EstimatedSalary'].mean,inplace=True);"
   ]
  },
  {
   "cell_type": "markdown",
   "id": "7e7f37fc-18e5-4b97-ab4d-fbcbc1eb2b32",
   "metadata": {},
   "source": [
    "### Conclusion: \n",
    "Majorly we fill null values categorical column with =Mode\n",
    "\n",
    "fillna values of continous data with =Mean"
   ]
  },
  {
   "cell_type": "code",
   "execution_count": 37,
   "id": "0e8f5ab1-3d3a-4b12-83bb-a8097a62cbc9",
   "metadata": {},
   "outputs": [
    {
     "data": {
      "text/plain": [
       "RowNumber          0\n",
       "CustomerId         0\n",
       "Surname            0\n",
       "CreditScore        0\n",
       "Geography          0\n",
       "Gender             0\n",
       "Age                0\n",
       "Tenure             0\n",
       "Balance            0\n",
       "NumOfProducts      0\n",
       "HasCrCard          0\n",
       "IsActiveMember     0\n",
       "EstimatedSalary    0\n",
       "Exited             0\n",
       "dtype: int64"
      ]
     },
     "execution_count": 37,
     "metadata": {},
     "output_type": "execute_result"
    }
   ],
   "source": [
    "df.isnull().sum()"
   ]
  },
  {
   "cell_type": "code",
   "execution_count": 38,
   "id": "05f1876d-2317-4144-8c44-8b3084766502",
   "metadata": {},
   "outputs": [
    {
     "data": {
      "text/plain": [
       "{'RowNumber': 0,\n",
       " 'CustomerId': 0,\n",
       " 'CreditScore': 15,\n",
       " 'Age': 359,\n",
       " 'Tenure': 0,\n",
       " 'Balance': 0,\n",
       " 'NumOfProducts': 60}"
      ]
     },
     "execution_count": 38,
     "metadata": {},
     "output_type": "execute_result"
    }
   ],
   "source": [
    "exclude_cols=['HasCrCard','IsActiveMember','Exited']\n",
    "numeric_cols =[col for col in df.select_dtypes(include=['number']).columns if col not in exclude_cols]\n",
    "outlier_info = {}\n",
    "\n",
    "for col in numeric_cols:\n",
    "    Q1 = df[col].quantile(0.25)\n",
    "    Q3 = df[col].quantile(0.75)\n",
    "    IQR = Q3 - Q1\n",
    "    lower_bound = Q1 - 1.5 * IQR\n",
    "    upper_bound = Q3 + 1.5 * IQR\n",
    "    outliers = df[(df[col] < lower_bound) | (df[col] > upper_bound)][col]\n",
    "    outlier_info[col] = len(outliers)\n",
    "\n",
    "outlier_info"
   ]
  },
  {
   "cell_type": "code",
   "execution_count": 39,
   "id": "125ac33f-afd3-4c6b-a02a-d6016f02acc5",
   "metadata": {},
   "outputs": [],
   "source": [
    "for col in ['CreditScore', 'Age', 'NumOfProducts']:\n",
    "    Q1 = df[col].quantile(0.25)\n",
    "    Q3 = df[col].quantile(0.75)\n",
    "    IQR = Q3 - Q1\n",
    "    lower_bound = Q1 - 1.5 * IQR\n",
    "    upper_bound = Q3 + 1.5 * IQR\n",
    "    df = df[(df[col] >= lower_bound) & (df[col] <= upper_bound)]\n"
   ]
  },
  {
   "cell_type": "code",
   "execution_count": 40,
   "id": "bd0320b3-f5e2-4fa6-8a3a-c68a13fd4540",
   "metadata": {},
   "outputs": [
    {
     "data": {
      "text/plain": [
       "{'RowNumber': 0,\n",
       " 'CustomerId': 0,\n",
       " 'CreditScore': 1,\n",
       " 'Age': 163,\n",
       " 'Tenure': 0,\n",
       " 'Balance': 0,\n",
       " 'NumOfProducts': 0}"
      ]
     },
     "execution_count": 40,
     "metadata": {},
     "output_type": "execute_result"
    }
   ],
   "source": [
    "exclude_cols=['HasCrCard','IsActiveMember','Exited']\n",
    "numeric_cols =[col for col in df.select_dtypes(include=['number']).columns if col not in exclude_cols]\n",
    "outlier_info = {}\n",
    "\n",
    "for col in numeric_cols:\n",
    "    Q1 = df[col].quantile(0.25)\n",
    "    Q3 = df[col].quantile(0.75)\n",
    "    IQR = Q3 - Q1\n",
    "    lower_bound = Q1 - 1.5 * IQR\n",
    "    upper_bound = Q3 + 1.5 * IQR\n",
    "    outliers = df[(df[col] < lower_bound) | (df[col] > upper_bound)][col]\n",
    "    outlier_info[col] = len(outliers)\n",
    "\n",
    "outlier_info"
   ]
  },
  {
   "cell_type": "markdown",
   "id": "c8058b4d-c227-4e78-a541-e0e36df35ea0",
   "metadata": {},
   "source": [
    "### Conclusion: \n",
    "##### Outlier=\n",
    "#####         1)CreditScore=15\n",
    "#####         2)Age=182\n",
    "#####         3)NumofProducts=60\n",
    "##### we delete all outlier rows"
   ]
  },
  {
   "cell_type": "markdown",
   "id": "3cd8feb2-d675-49bc-99b4-fb6c507c9609",
   "metadata": {},
   "source": [
    "# # Data Analysis and Visualizations"
   ]
  },
  {
   "cell_type": "markdown",
   "id": "a2c80008-af93-42ff-8008-a1d75c6b46eb",
   "metadata": {},
   "source": [
    "### Churn Distribution\n",
    "First, let's see the percentage of customers who have churned."
   ]
  },
  {
   "cell_type": "code",
   "execution_count": 41,
   "id": "163a66b8-bd3c-4495-b76a-2be2164b1d1b",
   "metadata": {},
   "outputs": [
    {
     "data": {
      "text/plain": [
       "<Axes: ylabel='count'>"
      ]
     },
     "execution_count": 41,
     "metadata": {},
     "output_type": "execute_result"
    },
    {
     "data": {
      "image/png": "[encoded data removed]",
      "text/plain": [
       "<Figure size 640x480 with 1 Axes>"
      ]
     },
     "metadata": {},
     "output_type": "display_data"
    }
   ],
   "source": [
    "df['Exited'].value_counts().plot.pie(\n",
    "    autopct='%1.1f%%',\n",
    "    labels=['Stayed(0)','Churned(1)'],\n",
    "    colors=['#66b3ff','#ff6666']\n",
    ")\n"
   ]
  },
  {
   "cell_type": "markdown",
   "id": "7ab2f6c0-daa4-4f51-a9b5-d95ea7acced4",
   "metadata": {},
   "source": [
    "### Correlation Heatmap\n",
    "We can check correlations between numerical features and churn."
   ]
  },
  {
   "cell_type": "code",
   "execution_count": 42,
   "id": "705a072b-68fb-4250-b344-fea27c8589e5",
   "metadata": {},
   "outputs": [
    {
     "data": {
      "image/png": "[encoded data removed]",
      "text/plain": [
       "<Figure size 1000x600 with 2 Axes>"
      ]
     },
     "metadata": {},
     "output_type": "display_data"
    }
   ],
   "source": [
    "plt.figure(figsize=(10,6))\n",
    "sns.heatmap(df.select_dtypes(include=['number']).corr(), annot=False, cmap='copper')\n",
    "plt.title('Feature Correlation Heatmap')\n",
    "plt.show()\n"
   ]
  },
  {
   "cell_type": "markdown",
   "id": "9a8cb00f-f233-4453-9f94-723d77fce64b",
   "metadata": {},
   "source": [
    "## Tenure vs Churn\n",
    "Customers with lower tenure seem more likely to churn."
   ]
  },
  {
   "cell_type": "code",
   "execution_count": 43,
   "id": "f00035f4-59bd-4623-ae79-f11166135a48",
   "metadata": {},
   "outputs": [
    {
     "data": {
      "image/png": "[encoded data removed]",
      "text/plain": [
       "<Figure size 1000x600 with 1 Axes>"
      ]
     },
     "metadata": {},
     "output_type": "display_data"
    }
   ],
   "source": [
    "plt.figure(figsize=(10,6))\n",
    "df['Exited']=df['Exited'].astype(str)\n",
    "sns.countplot(data=df, x='Tenure', hue='Exited', palette='coolwarm')\n",
    "plt.title('Tenure Distribution by Churn Status (Clustered Bar Chart)')\n",
    "plt.xlabel('Tenure')\n",
    "plt.ylabel('Count')\n",
    "plt.show()\n"
   ]
  },
  {
   "cell_type": "markdown",
   "id": "19ebc7a6-31a4-436c-9e63-1f5a92e2202b",
   "metadata": {},
   "source": [
    "### EstimatedSalary Vs Churn"
   ]
  },
  {
   "cell_type": "code",
   "execution_count": 44,
   "id": "cf5bf98b-189c-4f25-b9ad-5bb179717195",
   "metadata": {},
   "outputs": [],
   "source": [
    "df['EstimatedSalary'] = pd.to_numeric(df['EstimatedSalary'], errors='coerce')"
   ]
  },
  {
   "cell_type": "code",
   "execution_count": 45,
   "id": "20abdf21-d43e-47d5-bd9c-5b9b5297859e",
   "metadata": {},
   "outputs": [
    {
     "name": "stderr",
     "output_type": "stream",
     "text": [
      "C:\\ProgramData\\anaconda3\\Lib\\site-packages\\seaborn\\categorical.py:641: FutureWarning: The default of observed=False is deprecated and will be changed to True in a future version of pandas. Pass observed=False to retain current behavior or observed=True to adopt the future default and silence this warning.\n",
      "  grouped_vals = vals.groupby(grouper)\n",
      "C:\\ProgramData\\anaconda3\\Lib\\site-packages\\seaborn\\categorical.py:641: FutureWarning: The default of observed=False is deprecated and will be changed to True in a future version of pandas. Pass observed=False to retain current behavior or observed=True to adopt the future default and silence this warning.\n",
      "  grouped_vals = vals.groupby(grouper)\n"
     ]
    },
    {
     "data": {
      "image/png": "[encoded data removed]",
      "text/plain": [
       "<Figure size 800x600 with 1 Axes>"
      ]
     },
     "metadata": {},
     "output_type": "display_data"
    }
   ],
   "source": [
    "bins = [0, 25000, 50000, 75000, 100000, 150000, df['EstimatedSalary'].max()]\n",
    "labels = ['0-25k', '25k-50k', '50k-75k', '75k-100k', '100k-150k', '150k+']\n",
    "\n",
    "\n",
    "df['Exited'] = df['Exited'].astype(str)\n",
    "df['SalaryRange'] = pd.cut(df['EstimatedSalary'], bins=bins, labels=labels, right=False)\n",
    "\n",
    "plt.figure(figsize=(8,6))\n",
    "sns.countplot(data=df, x='SalaryRange', hue='Exited', order=labels, palette='coolwarm')\n",
    "plt.title('Estimated Salary Range by Churn Status')\n",
    "plt.xlabel('Salary Range')\n",
    "plt.ylabel('Count')\n",
    "plt.xticks(rotation=45)\n",
    "plt.show()\n"
   ]
  },
  {
   "cell_type": "markdown",
   "id": "b577aebf-8834-44d2-b9c3-20142ba7606b",
   "metadata": {},
   "source": [
    "### HasCrCard Vs Churn"
   ]
  },
  {
   "cell_type": "code",
   "execution_count": 46,
   "id": "d6a3a808-a5de-407d-b48f-8e45ba8a5845",
   "metadata": {},
   "outputs": [
    {
     "data": {
      "image/png": "[encoded data removed]",
      "text/plain": [
       "<Figure size 640x480 with 1 Axes>"
      ]
     },
     "metadata": {},
     "output_type": "display_data"
    }
   ],
   "source": [
    "sns.countplot(data=df, x='HasCrCard',hue='Exited',  palette='coolwarm')\n",
    "plt.title('HasCrCard Distribution by Churn Status (Clustered Bar Chart)')\n",
    "plt.show()"
   ]
  },
  {
   "cell_type": "markdown",
   "id": "10f4e2d0-2335-4779-9fe8-d397e467b330",
   "metadata": {},
   "source": [
    "## Geography vs Churn\n",
    "Churn rate varies significantly across locations."
   ]
  },
  {
   "cell_type": "code",
   "execution_count": 47,
   "id": "55815fe5-4640-4d2d-89b0-3bd57d8662d0",
   "metadata": {},
   "outputs": [
    {
     "data": {
      "image/png": "[encoded data removed]",
      "text/plain": [
       "<Figure size 600x800 with 1 Axes>"
      ]
     },
     "metadata": {},
     "output_type": "display_data"
    }
   ],
   "source": [
    "plt.figure(figsize=(6,8))\n",
    "df['Exited'] = df['Exited'].astype(str)\n",
    "sns.countplot(x='Geography', hue='Exited', data=df, palette='coolwarm')\n",
    "plt.title('Churn by Geography')\n",
    "plt.xlabel('Geography')\n",
    "plt.ylabel('Count')\n",
    "plt.show()\n"
   ]
  },
  {
   "cell_type": "markdown",
   "id": "dcf90ca0-f307-4f48-a92e-8075ebee2c08",
   "metadata": {},
   "source": [
    "### Gender vs Churn"
   ]
  },
  {
   "cell_type": "code",
   "execution_count": 48,
   "id": "5eadded5-a94d-41b3-ae72-aa175019575a",
   "metadata": {},
   "outputs": [
    {
     "data": {
      "image/png": "[encoded data removed]",
      "text/plain": [
       "<Figure size 1000x600 with 1 Axes>"
      ]
     },
     "metadata": {},
     "output_type": "display_data"
    }
   ],
   "source": [
    "plt.figure(figsize=(10,6))\n",
    "sns.countplot(data=df, x='Gender', hue='Exited', palette='coolwarm')\n",
    "plt.title('Gender Distribution by Churn Status (Clustered Bar Chart)')\n",
    "plt.xlabel('Gender')\n",
    "plt.ylabel('Count')\n",
    "plt.show()\n"
   ]
  },
  {
   "cell_type": "markdown",
   "id": "0e935a1f-e7f9-47e4-a474-ed60458b3bf2",
   "metadata": {},
   "source": [
    "### Age VS Churn"
   ]
  },
  {
   "cell_type": "code",
   "execution_count": 49,
   "id": "5e077774-3598-4622-8f8b-df80dd1b26d0",
   "metadata": {},
   "outputs": [
    {
     "name": "stderr",
     "output_type": "stream",
     "text": [
      "C:\\ProgramData\\anaconda3\\Lib\\site-packages\\seaborn\\categorical.py:641: FutureWarning: The default of observed=False is deprecated and will be changed to True in a future version of pandas. Pass observed=False to retain current behavior or observed=True to adopt the future default and silence this warning.\n",
      "  grouped_vals = vals.groupby(grouper)\n",
      "C:\\ProgramData\\anaconda3\\Lib\\site-packages\\seaborn\\categorical.py:641: FutureWarning: The default of observed=False is deprecated and will be changed to True in a future version of pandas. Pass observed=False to retain current behavior or observed=True to adopt the future default and silence this warning.\n",
      "  grouped_vals = vals.groupby(grouper)\n"
     ]
    },
    {
     "data": {
      "image/png": "[encoded data removed]",
      "text/plain": [
       "<Figure size 600x400 with 1 Axes>"
      ]
     },
     "metadata": {},
     "output_type": "display_data"
    }
   ],
   "source": [
    "# Create age ranges\n",
    "bins = [0, 20, 30, 40, 50, 60, 100]  # upper bound 100 for safety\n",
    "labels = ['0-19', '20-29', '30-39', '40-49', '50-59', '60+']\n",
    "df['AgeRange'] = pd.cut(df['Age'], bins=bins, labels=labels, right=False)\n",
    "plt.figure(figsize=(6,4))\n",
    "sns.countplot(data=df, x='AgeRange', hue='Exited', palette='coolwarm')\n",
    "plt.title('Age Range Distribution by Churn Status (Clustered Bar Chart)')\n",
    "plt.xlabel('Age Range')\n",
    "plt.ylabel('Count')\n",
    "plt.show()\n"
   ]
  },
  {
   "cell_type": "markdown",
   "id": "298e9b5e-8c46-4145-9b16-eda8569565c1",
   "metadata": {},
   "source": [
    "### NumofProducts VS Churn"
   ]
  },
  {
   "cell_type": "code",
   "execution_count": 50,
   "id": "101004db-c6b8-4ece-b5b4-69f513d1c1f9",
   "metadata": {},
   "outputs": [
    {
     "data": {
      "image/png": "[encoded data removed]",
      "text/plain": [
       "<Figure size 640x480 with 1 Axes>"
      ]
     },
     "metadata": {},
     "output_type": "display_data"
    }
   ],
   "source": [
    "import seaborn as sns\n",
    "import matplotlib.pyplot as plt\n",
    "sns.countplot(data=df, x='NumOfProducts',hue='Exited',  palette='coolwarm')\n",
    "plt.title('NumOfProducts Distribution by Churn Status (Clustered Bar Chart)')\n",
    "plt.show()\n"
   ]
  },
  {
   "cell_type": "markdown",
   "id": "a2d43648-e525-48a6-8a50-ae4ba0117865",
   "metadata": {},
   "source": [
    "### IsActiveMemer Vs Churn"
   ]
  },
  {
   "cell_type": "code",
   "execution_count": 52,
   "id": "d107cf03-44aa-4bfc-9ae3-eeab57fd5340",
   "metadata": {},
   "outputs": [
    {
     "data": {
      "image/png": "[encoded data removed]",
      "text/plain": [
       "<Figure size 640x480 with 1 Axes>"
      ]
     },
     "metadata": {},
     "output_type": "display_data"
    }
   ],
   "source": [
    "sns.countplot(data=df, x='IsActiveMember',hue='Exited',  palette='coolwarm')\n",
    "plt.title('IsActiveMember Distribution by Churn Status (Clustered Bar Chart)')\n",
    "plt.show()\n"
   ]
  },
  {
   "cell_type": "markdown",
   "id": "7d2b70bb-486e-4f94-9885-6238042832c2",
   "metadata": {},
   "source": [
    "### CreditScore VS Churn"
   ]
  },
  {
   "cell_type": "code",
   "execution_count": 53,
   "id": "6d7bf0cf-2222-4e15-80a8-bd25083876bb",
   "metadata": {},
   "outputs": [
    {
     "name": "stderr",
     "output_type": "stream",
     "text": [
      "C:\\ProgramData\\anaconda3\\Lib\\site-packages\\seaborn\\categorical.py:641: FutureWarning: The default of observed=False is deprecated and will be changed to True in a future version of pandas. Pass observed=False to retain current behavior or observed=True to adopt the future default and silence this warning.\n",
      "  grouped_vals = vals.groupby(grouper)\n",
      "C:\\ProgramData\\anaconda3\\Lib\\site-packages\\seaborn\\categorical.py:641: FutureWarning: The default of observed=False is deprecated and will be changed to True in a future version of pandas. Pass observed=False to retain current behavior or observed=True to adopt the future default and silence this warning.\n",
      "  grouped_vals = vals.groupby(grouper)\n"
     ]
    },
    {
     "data": {
      "image/png": "[encoded data removed]",
      "text/plain": [
       "<Figure size 800x600 with 1 Axes>"
      ]
     },
     "metadata": {},
     "output_type": "display_data"
    }
   ],
   "source": [
    "df['CreditScore'] = pd.to_numeric(df['CreditScore'], errors='coerce')\n",
    "bins = [0, 400, 600, 800, df['CreditScore'].max()]\n",
    "labels = ['Poor (<400)', 'Fair (400-600)', 'Good (600-800)', 'Excellent (800+)']\n",
    "df['CreditScoreRange'] = pd.cut(df['CreditScore'], bins=bins, labels=labels, right=False)\n",
    "plt.figure(figsize=(8,6))\n",
    "sns.countplot(data=df, x='CreditScoreRange', hue='Exited', palette='coolwarm')\n",
    "plt.title('Credit Score Range by Churn Status')\n",
    "plt.xlabel('Credit Score Range')\n",
    "plt.ylabel('Count')\n",
    "plt.show()\n"
   ]
  },
  {
   "cell_type": "markdown",
   "id": "a3123f4b-6bd4-433d-a9ba-ac94b26013ab",
   "metadata": {},
   "source": [
    "### Balance Vs Churn"
   ]
  },
  {
   "cell_type": "code",
   "execution_count": 54,
   "id": "70b8d6da-4195-4d65-8942-111e27e9d4a0",
   "metadata": {},
   "outputs": [
    {
     "name": "stderr",
     "output_type": "stream",
     "text": [
      "C:\\ProgramData\\anaconda3\\Lib\\site-packages\\seaborn\\categorical.py:641: FutureWarning: The default of observed=False is deprecated and will be changed to True in a future version of pandas. Pass observed=False to retain current behavior or observed=True to adopt the future default and silence this warning.\n",
      "  grouped_vals = vals.groupby(grouper)\n",
      "C:\\ProgramData\\anaconda3\\Lib\\site-packages\\seaborn\\categorical.py:641: FutureWarning: The default of observed=False is deprecated and will be changed to True in a future version of pandas. Pass observed=False to retain current behavior or observed=True to adopt the future default and silence this warning.\n",
      "  grouped_vals = vals.groupby(grouper)\n"
     ]
    },
    {
     "data": {
      "image/png": "[encoded data removed]",
      "text/plain": [
       "<Figure size 800x600 with 1 Axes>"
      ]
     },
     "metadata": {},
     "output_type": "display_data"
    }
   ],
   "source": [
    "df['Balance'] = pd.to_numeric(df['Balance'], errors='coerce')\n",
    "bins = [0, 25000, 50000, 100000, 150000, 200000, df['Balance'].max()]\n",
    "labels = ['0-25k', '25k-50k', '50k-100k', '100k-150k', '150k-200k', '200k+']\n",
    "df['BalanceRange'] = pd.cut(df['Balance'], bins=bins, labels=labels, right=False)\n",
    "plt.figure(figsize=(8,6))\n",
    "sns.countplot(data=df, x='BalanceRange', hue='Exited', palette='coolwarm')\n",
    "plt.title('Balance Range by Churn Status')\n",
    "plt.xlabel('Balance Range')\n",
    "plt.ylabel('Count')\n",
    "plt.show()\n"
   ]
  },
  {
   "cell_type": "markdown",
   "id": "1123eb2d-1ffa-4b56-9c6a-7161ba50c1a5",
   "metadata": {},
   "source": [
    "### Factor with High impact on Churn risk \n",
    "1)Age   \n",
    "2)Credit Score   \n",
    "3)Geography    \n",
    "4)Number Of Products\n",
    "5)IsActiveMember  \n",
    "6)Balance\n"
   ]
  },
  {
   "cell_type": "markdown",
   "id": "a7f97ee8-f2db-4519-a608-a39c5f2cb3b7",
   "metadata": {},
   "source": [
    "### Factor with weak Impact On Churn risk\n",
    "1)HasCrCard         \n",
    "2)EstimatedSalary  \n",
    "3)Tenure"
   ]
  },
  {
   "cell_type": "markdown",
   "id": "56dd9570-df7b-4772-950f-2c4a24503440",
   "metadata": {},
   "source": [
    "# Final Project Conclusion"
   ]
  },
  {
   "cell_type": "markdown",
   "id": "32c3e5f7-0cc6-4d34-ad91-c925a522d76c",
   "metadata": {},
   "source": [
    "#### After analyzing the dataset of **10,000 bank customers**, the following key insights were found:"
   ]
  },
  {
   "cell_type": "markdown",
   "id": "338ce29f-f3f4-4505-af0c-e80a31d687bc",
   "metadata": {},
   "source": [
    "### Key Factors that Increase Churn Risk\n",
    "\n",
    "#### Age – Older customers (especially 40+) have a higher tendency to churn compared to younger ones.\n",
    "\n",
    "#### CreditScore – Lower credit scores are associated with higher churn rates.\n",
    "\n",
    "#### Number of Products –Customers holding fewer bank products are more likely to leave; however, an unusually high number (like 4+) can also be linked with churn due to niche account closures.\n",
    "\n",
    "#### Geography – Customers from certain countries (e.g., Germany) show a noticeably higher churn rate compared to others (France, Spain).\n",
    "\n",
    "#### IsActiveMember – Non-active members show significantly higher churn probability.\n",
    "\n",
    "#### Balance – Very low or zero account balances often correlate with higher churn, possibly indicating reduced engagement.\n"
   ]
  },
  {
   "cell_type": "code",
   "execution_count": null,
   "id": "244648fb-5b4c-4e63-befe-2d0d1c7eb19f",
   "metadata": {},
   "outputs": [],
   "source": []
  },
  {
   "cell_type": "markdown",
   "id": "8734238a-414e-4057-8d6d-ad2424473449",
   "metadata": {},
   "source": [
    "### Factors with Lower or Negligible Impact\n",
    "\n",
    "#### HasCrCard – Simply having a credit card does not strongly affect churn probability.\n",
    "\n",
    "#### Tenure – While very short tenure customers may churn more, tenure alone is not a strong predictor when considered with other factors.\n",
    "\n",
    "#### EstimatedSalary – Salary level shows weak correlation with churn once other features are accounted for.\n"
   ]
  },
  {
   "cell_type": "code",
   "execution_count": null,
   "id": "edfeb3aa-95df-485f-bbc1-b2d24e9fac4f",
   "metadata": {},
   "outputs": [],
   "source": []
  },
  {
   "cell_type": "markdown",
   "id": "df321eea-497a-476e-9eaa-b164552bec6c",
   "metadata": {},
   "source": [
    "### Business Implications\n",
    "\n",
    "#### Retention campaigns should focus on older, inactive customers with few products, especially in high-churn geographies.\n",
    "\n",
    "#### Cross-selling more relevant products could improve retention.\n",
    "\n",
    "#### Activity-based engagement programs are likely more effective than income-based offers"
   ]
  },
  {
   "cell_type": "code",
   "execution_count": null,
   "id": "ce06cf9b-903b-4a72-aead-8d8c93fd6399",
   "metadata": {},
   "outputs": [],
   "source": []
  },
  {
   "cell_type": "code",
   "execution_count": null,
   "id": "daecdc16-7272-4d07-9cdf-f844bf6a33e3",
   "metadata": {},
   "outputs": [],
   "source": []
  }
 ],
 "metadata": {
  "kernelspec": {
   "display_name": "Python 3 (ipykernel)",
   "language": "python",
   "name": "python3"
  },
  "language_info": {
   "codemirror_mode": {
    "name": "ipython",
    "version": 3
   },
   "file_extension": ".py",
   "mimetype": "text/x-python",
   "name": "python",
   "nbconvert_exporter": "python",
   "pygments_lexer": "ipython3",
   "version": "3.11.7"
  }
 },
 "nbformat": 4,
 "nbformat_minor": 5
}
